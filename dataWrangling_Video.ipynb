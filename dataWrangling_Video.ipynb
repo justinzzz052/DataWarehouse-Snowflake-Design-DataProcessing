{
 "cells": [
  {
   "cell_type": "code",
   "execution_count": 1,
   "metadata": {},
   "outputs": [
    {
     "name": "stderr",
     "output_type": "stream",
     "text": [
      "b'Skipping line 464716: expected 3 fields, saw 4\\nSkipping line 464947: expected 3 fields, saw 4\\nSkipping line 465187: expected 3 fields, saw 4\\nSkipping line 465442: expected 3 fields, saw 4\\nSkipping line 465648: expected 3 fields, saw 4\\n'\n"
     ]
    }
   ],
   "source": [
    "import pandas as pd\n",
    "import numpy as np\n",
    "df = pd.read_csv('video_data.csv', error_bad_lines=False,parse_dates=['DateTime'])\n"
   ]
  },
  {
   "cell_type": "code",
   "execution_count": 2,
   "metadata": {},
   "outputs": [],
   "source": [
    "# step 1: Verify data load\n",
    "# step 2: Display data types\n",
    "# step 3: Display summary statistics\n",
    "# step 4: Data Cleaning \n",
    "# step 5: Data tranformation\n"
   ]
  },
  {
   "cell_type": "code",
   "execution_count": 3,
   "metadata": {},
   "outputs": [
    {
     "name": "stdout",
     "output_type": "stream",
     "text": [
      "Validation Passed\n"
     ]
    }
   ],
   "source": [
    "# step 1: Verifying data load\n",
    "\n",
    "def check_load(df,num_records,num_columns):\n",
    "    message = 'Validation Failed'\n",
    "    if num_records == df.shape[0]:\n",
    "        if num_columns == df.shape[1]:\n",
    "            message = 'Validation Passed'\n",
    "    return message\n",
    "\n",
    "#Print the data validation message\n",
    "print(check_load(df,1333653,3))"
   ]
  },
  {
   "cell_type": "code",
   "execution_count": 4,
   "metadata": {},
   "outputs": [
    {
     "name": "stdout",
     "output_type": "stream",
     "text": [
      "<class 'pandas.core.frame.DataFrame'>\n",
      "RangeIndex: 1333653 entries, 0 to 1333652\n",
      "Data columns (total 3 columns):\n",
      " #   Column      Non-Null Count    Dtype              \n",
      "---  ------      --------------    -----              \n",
      " 0   DateTime    1333653 non-null  datetime64[ns, UTC]\n",
      " 1   VideoTitle  1333653 non-null  object             \n",
      " 2   events      1333653 non-null  object             \n",
      "dtypes: datetime64[ns, UTC](1), object(2)\n",
      "memory usage: 30.5+ MB\n"
     ]
    }
   ],
   "source": [
    "# Step 2: Checking data shape \n",
    "df.info()"
   ]
  },
  {
   "cell_type": "code",
   "execution_count": 46,
   "metadata": {},
   "outputs": [
    {
     "data": {
      "text/html": [
       "<div>\n",
       "<style scoped>\n",
       "    .dataframe tbody tr th:only-of-type {\n",
       "        vertical-align: middle;\n",
       "    }\n",
       "\n",
       "    .dataframe tbody tr th {\n",
       "        vertical-align: top;\n",
       "    }\n",
       "\n",
       "    .dataframe thead th {\n",
       "        text-align: right;\n",
       "    }\n",
       "</style>\n",
       "<table border=\"1\" class=\"dataframe\">\n",
       "  <thead>\n",
       "    <tr style=\"text-align: right;\">\n",
       "      <th></th>\n",
       "      <th>DateTime</th>\n",
       "      <th>VideoTitle</th>\n",
       "      <th>events</th>\n",
       "    </tr>\n",
       "  </thead>\n",
       "  <tbody>\n",
       "    <tr>\n",
       "      <th>0</th>\n",
       "      <td>2017-01-11 00:00:31+00:00</td>\n",
       "      <td>App Web|Clips|a-current-affair;2016|William Ty...</td>\n",
       "      <td>157,120,160,104,162,161,163,164,165,166,171,229</td>\n",
       "    </tr>\n",
       "    <tr>\n",
       "      <th>1</th>\n",
       "      <td>2017-01-11 00:00:53+00:00</td>\n",
       "      <td>news| Shark attacks spearfisherman</td>\n",
       "      <td>127,157,120,160,104,162,161,171,206</td>\n",
       "    </tr>\n",
       "    <tr>\n",
       "      <th>2</th>\n",
       "      <td>2017-01-11 00:00:21+00:00</td>\n",
       "      <td>news| Shark attacks spearfisherman</td>\n",
       "      <td>127,157,120,160,104,162,161,163,164,165,166,17...</td>\n",
       "    </tr>\n",
       "    <tr>\n",
       "      <th>3</th>\n",
       "      <td>2017-01-11 00:01:27+00:00</td>\n",
       "      <td>news| Chilean navy films UFO</td>\n",
       "      <td>157,120,160,104,162,161,170,171,237</td>\n",
       "    </tr>\n",
       "    <tr>\n",
       "      <th>4</th>\n",
       "      <td>2017-01-11 00:00:33+00:00</td>\n",
       "      <td>news| Video shows alleged axe attack at Sydney...</td>\n",
       "      <td>157,120,160,104,162,161,163,164,165,166,171,229</td>\n",
       "    </tr>\n",
       "  </tbody>\n",
       "</table>\n",
       "</div>"
      ],
      "text/plain": [
       "                   DateTime  \\\n",
       "0 2017-01-11 00:00:31+00:00   \n",
       "1 2017-01-11 00:00:53+00:00   \n",
       "2 2017-01-11 00:00:21+00:00   \n",
       "3 2017-01-11 00:01:27+00:00   \n",
       "4 2017-01-11 00:00:33+00:00   \n",
       "\n",
       "                                          VideoTitle  \\\n",
       "0  App Web|Clips|a-current-affair;2016|William Ty...   \n",
       "1                 news| Shark attacks spearfisherman   \n",
       "2                 news| Shark attacks spearfisherman   \n",
       "3                       news| Chilean navy films UFO   \n",
       "4  news| Video shows alleged axe attack at Sydney...   \n",
       "\n",
       "                                              events  \n",
       "0    157,120,160,104,162,161,163,164,165,166,171,229  \n",
       "1                127,157,120,160,104,162,161,171,206  \n",
       "2  127,157,120,160,104,162,161,163,164,165,166,17...  \n",
       "3                157,120,160,104,162,161,170,171,237  \n",
       "4    157,120,160,104,162,161,163,164,165,166,171,229  "
      ]
     },
     "execution_count": 46,
     "metadata": {},
     "output_type": "execute_result"
    }
   ],
   "source": [
    "df.head(5)"
   ]
  },
  {
   "cell_type": "code",
   "execution_count": 5,
   "metadata": {},
   "outputs": [
    {
     "name": "stderr",
     "output_type": "stream",
     "text": [
      "/opt/anaconda3/lib/python3.7/site-packages/ipykernel_launcher.py:2: FutureWarning: Treating datetime data as categorical rather than numeric in `.describe` is deprecated and will be removed in a future version of pandas. Specify `datetime_is_numeric=True` to silence this warning and adopt the future behavior now.\n",
      "  \n"
     ]
    },
    {
     "data": {
      "text/html": [
       "<div>\n",
       "<style scoped>\n",
       "    .dataframe tbody tr th:only-of-type {\n",
       "        vertical-align: middle;\n",
       "    }\n",
       "\n",
       "    .dataframe tbody tr th {\n",
       "        vertical-align: top;\n",
       "    }\n",
       "\n",
       "    .dataframe thead th {\n",
       "        text-align: right;\n",
       "    }\n",
       "</style>\n",
       "<table border=\"1\" class=\"dataframe\">\n",
       "  <thead>\n",
       "    <tr style=\"text-align: right;\">\n",
       "      <th></th>\n",
       "      <th>DateTime</th>\n",
       "      <th>VideoTitle</th>\n",
       "      <th>events</th>\n",
       "    </tr>\n",
       "  </thead>\n",
       "  <tbody>\n",
       "    <tr>\n",
       "      <th>count</th>\n",
       "      <td>1333653</td>\n",
       "      <td>1333653</td>\n",
       "      <td>1333653</td>\n",
       "    </tr>\n",
       "    <tr>\n",
       "      <th>unique</th>\n",
       "      <td>84986</td>\n",
       "      <td>7119</td>\n",
       "      <td>109</td>\n",
       "    </tr>\n",
       "    <tr>\n",
       "      <th>top</th>\n",
       "      <td>2017-01-11 11:12:39+00:00</td>\n",
       "      <td>news| Piers Morgan reduces mother to tears</td>\n",
       "      <td>157,120,160,104,162,161,171,206</td>\n",
       "    </tr>\n",
       "    <tr>\n",
       "      <th>freq</th>\n",
       "      <td>61</td>\n",
       "      <td>91799</td>\n",
       "      <td>390414</td>\n",
       "    </tr>\n",
       "    <tr>\n",
       "      <th>first</th>\n",
       "      <td>2017-01-11 00:00:00+00:00</td>\n",
       "      <td>NaN</td>\n",
       "      <td>NaN</td>\n",
       "    </tr>\n",
       "    <tr>\n",
       "      <th>last</th>\n",
       "      <td>2017-01-11 23:59:59+00:00</td>\n",
       "      <td>NaN</td>\n",
       "      <td>NaN</td>\n",
       "    </tr>\n",
       "  </tbody>\n",
       "</table>\n",
       "</div>"
      ],
      "text/plain": [
       "                         DateTime                                  VideoTitle  \\\n",
       "count                     1333653                                     1333653   \n",
       "unique                      84986                                        7119   \n",
       "top     2017-01-11 11:12:39+00:00  news| Piers Morgan reduces mother to tears   \n",
       "freq                           61                                       91799   \n",
       "first   2017-01-11 00:00:00+00:00                                         NaN   \n",
       "last    2017-01-11 23:59:59+00:00                                         NaN   \n",
       "\n",
       "                                 events  \n",
       "count                           1333653  \n",
       "unique                              109  \n",
       "top     157,120,160,104,162,161,171,206  \n",
       "freq                             390414  \n",
       "first                               NaN  \n",
       "last                                NaN  "
      ]
     },
     "execution_count": 5,
     "metadata": {},
     "output_type": "execute_result"
    }
   ],
   "source": [
    "# Step 3: Display summary statistics\n",
    "df.describe()"
   ]
  },
  {
   "cell_type": "code",
   "execution_count": 6,
   "metadata": {},
   "outputs": [
    {
     "name": "stdout",
     "output_type": "stream",
     "text": [
      "Display the Number of missing data: \n",
      " DateTime      0\n",
      "VideoTitle    0\n",
      "events        0\n",
      "dtype: int64 \n",
      "\n",
      "\n",
      "Display the Number of duplicated data ---> 156470\n"
     ]
    }
   ],
   "source": [
    "# Step 4: Data Cleaning \n",
    "# Check missing data\n",
    "print('Display the Number of missing data: \\n {} '.format(df.isnull().sum()))\n",
    "\n",
    "# Check duplicated data\n",
    "print('\\n')\n",
    "print('Display the Number of duplicated data ---> {}'.format(df.duplicated().sum()))\n"
   ]
  },
  {
   "cell_type": "code",
   "execution_count": 7,
   "metadata": {},
   "outputs": [
    {
     "name": "stdout",
     "output_type": "stream",
     "text": [
      "Display the Number of duplicated data---> 0\n"
     ]
    }
   ],
   "source": [
    "# Address the duplicated data\n",
    "df = df.drop_duplicates()\n",
    "\n",
    "#Check again\n",
    "print('Display the Number of duplicated data---> {}'.format(df.duplicated().sum()))\n"
   ]
  },
  {
   "cell_type": "code",
   "execution_count": 8,
   "metadata": {},
   "outputs": [
    {
     "name": "stdout",
     "output_type": "stream",
     "text": [
      "The 771644 records has been deleted. \n",
      "\n",
      "The new dataset has 405539 rows and 3 columns.\n"
     ]
    },
    {
     "name": "stderr",
     "output_type": "stream",
     "text": [
      "/opt/anaconda3/lib/python3.7/site-packages/ipykernel_launcher.py:17: SettingWithCopyWarning: \n",
      "A value is trying to be set on a copy of a slice from a DataFrame\n",
      "\n",
      "See the caveats in the documentation: https://pandas.pydata.org/pandas-docs/stable/user_guide/indexing.html#returning-a-view-versus-a-copy\n",
      "/opt/anaconda3/lib/python3.7/site-packages/ipykernel_launcher.py:18: SettingWithCopyWarning: \n",
      "A value is trying to be set on a copy of a slice from a DataFrame\n",
      "\n",
      "See the caveats in the documentation: https://pandas.pydata.org/pandas-docs/stable/user_guide/indexing.html#returning-a-view-versus-a-copy\n",
      "/opt/anaconda3/lib/python3.7/site-packages/ipykernel_launcher.py:19: SettingWithCopyWarning: \n",
      "A value is trying to be set on a copy of a slice from a DataFrame\n",
      "\n",
      "See the caveats in the documentation: https://pandas.pydata.org/pandas-docs/stable/user_guide/indexing.html#returning-a-view-versus-a-copy\n",
      "/opt/anaconda3/lib/python3.7/site-packages/ipykernel_launcher.py:20: SettingWithCopyWarning: \n",
      "A value is trying to be set on a copy of a slice from a DataFrame\n",
      "\n",
      "See the caveats in the documentation: https://pandas.pydata.org/pandas-docs/stable/user_guide/indexing.html#returning-a-view-versus-a-copy\n"
     ]
    }
   ],
   "source": [
    "# Step 5: Data tranformation\n",
    "#1. Determined from the “events” column containing “206”\n",
    "#2. All rows without 206 should be discarded\n",
    "\n",
    "Events_With_206 = df.events.str.contains('206')\n",
    "\n",
    "df_without_206 = df[~Events_With_206].reset_index(drop=True)\n",
    "df_with_206 = df[Events_With_206].reset_index(drop=True)\n",
    "print(\"The {} records has been deleted. \\n\\nThe new dataset has {} rows and {} columns.\".format(df_without_206.shape[0],df_with_206.shape[0],df_with_206.shape[1]))\n",
    "\n",
    "#3. Split VideoTitle by pipe ‘|’\n",
    "#If VideoTitle.split(‘|’)0 contains something that looks like a platform (iPhone, Android Phone etc) then use that as the platform\n",
    "#If VideoTitle.split(‘|’)0 doesn’t contain a platform but looks like a site, assume the platform is Desktop\n",
    "\n",
    "\n",
    "df_with_206['DimPlatform']=''\n",
    "df_with_206['DimPlatform'][df_with_206['VideoTitle'].str.contains('iPhone')]='iPhone'\n",
    "df_with_206['DimPlatform'][df_with_206['VideoTitle'].str.contains('Android')]='Android'\n",
    "df_with_206['DimPlatform'][df_with_206['VideoTitle'].str.contains('iPad')]='Ipad'\n",
    "df_with_206['DimPlatform'][~df_with_206['VideoTitle'].str.contains('iPhone|Android|iPad')]='Desktop'\n",
    "\n",
    "\n",
    "#Split VideoTitle ----> DimSite & DimVideo\n",
    "\n",
    "df_with_206.VideoTitle = df_with_206.VideoTitle.str.split('|')\n",
    "title_list = []\n",
    "site_name = []\n",
    "for row in df_with_206['VideoTitle']:\n",
    "    title_list.append(row[-1])\n",
    "    site_name.append(row[0])\n",
    "    \n",
    "    \n",
    "df_with_206['DimSite'] = pd.DataFrame(site_name)    \n",
    "df_with_206['DimVideo'] = pd.DataFrame(title_list)\n",
    "\n",
    "\n"
   ]
  },
  {
   "cell_type": "code",
   "execution_count": null,
   "metadata": {},
   "outputs": [],
   "source": [
    "# # Dimension_Tables:\n",
    "# 1. df_DimSite\n",
    "# 2. df_DimVideo\n",
    "# 3. df_DimPlatform\n",
    "# 4. df_Dimdate\n",
    "\n",
    "# # Fact_table"
   ]
  },
  {
   "cell_type": "code",
   "execution_count": 43,
   "metadata": {},
   "outputs": [],
   "source": [
    "# Dimension_Tables-- > df_DimSite \n",
    "\n",
    "\n",
    "df_DimSite = pd.DataFrame(df_with_206['DimSite'].unique())\n",
    "df_DimSite.rename(columns={0:'DimSite'},inplace=True)\n",
    "df_DimSite['DimSite_id'] = pd.DataFrame(np.arange(1,df_DimSite['DimSite'].nunique()+1))\n",
    "\n",
    "# save as df_DimSite.csv\n",
    "df_DimSite.to_csv('df_DimSite.csv',index=0)\n",
    "\n",
    "# Dimension_Tables-- > df_DimVideo \n",
    "\n",
    "\n",
    "df_DimVideo = pd.DataFrame(df_with_206['DimVideo'].unique())\n",
    "df_DimVideo.rename(columns={0:'DimVideo'},inplace=True)\n",
    "df_DimVideo['DimVideo_id'] = pd.DataFrame(np.arange(1,df_DimVideo['DimVideo'].nunique()+1))\n",
    "\n",
    "# save as df_DimSite.csv\n",
    "df_DimVideo.to_csv('df_DimVideo.csv',index=0)\n",
    "\n",
    "\n",
    "# # Dimension_Tables-- > df_DimPlatform \n",
    "\n",
    "df_DimPlatform = pd.DataFrame(df_with_206['DimPlatform'].unique())\n",
    "df_DimPlatform.rename(columns={0:'DimPlatform'},inplace=True)\n",
    "df_DimPlatform['df_DimPlatform_id'] = pd.DataFrame(np.arange(1,df_DimPlatform['DimPlatform'].nunique()+1))\n",
    "\n",
    "# save as df_DimPlatform.csv\n",
    "df_DimPlatform.to_csv('df_DimPlatform.csv',index=0)\n",
    "\n",
    "\n",
    "\n",
    "# Dimension_Tables-- > df_Dimdate \n",
    "\n",
    "df_Dimdate = df_with_206[['DateTime']]\n",
    "df_Dimdate = pd.DataFrame(df_Dimdate['DateTime'].unique(),columns=['DateTime'])\n",
    "\n",
    "\n",
    "df_Dimdate['Date']=df_Dimdate['DateTime'].dt.date\n",
    "df_Dimdate['Time']=df_Dimdate['DateTime'].dt.time\n",
    "df_Dimdate['Year']=df_Dimdate['DateTime'].dt.year\n",
    "df_Dimdate['Quarter']=df_Dimdate['DateTime'].dt.quarter\n",
    "df_Dimdate['Month']=df_Dimdate['DateTime'].dt.month\n",
    "df_Dimdate['Day']=df_Dimdate['DateTime'].dt.day\n",
    "df_Dimdate['Hour']=df_Dimdate['DateTime'].dt.hour\n",
    "df_Dimdate['Minute']=df_Dimdate['DateTime'].dt.minute\n",
    "\n",
    "# save as df_Dimdate.csv\n",
    "df_Dimdate.to_csv('df_Dimdate.csv',index=0)\n",
    "\n",
    "\n",
    "\n",
    "# Fact_table\n",
    "\n",
    "df1_date = pd.merge(df_with_206,df_Dimdate,on='DateTime',how='outer')\n",
    "df1_date_video = pd.merge(df_with_206,df_DimVideo,on='DimVideo',how='outer')\n",
    "df1_date_video_site = pd.merge(df1_video,df_DimSite,on='DimSite',how='outer')\n",
    "df1_date_video_site_platform = pd.merge(df1_video_site,df_DimPlatform,on='DimPlatform',how='outer')\n",
    "\n",
    "fact_table=df1_video_site_platform.loc[:,['DateTime','df_DimPlatform_id','DimSite_id','DimVideo_id','events']]\n",
    "\n",
    "# save as fact_table.csv\n",
    "fact_table.to_csv('fact_table.csv',index=0)\n",
    "\n",
    "\n"
   ]
  },
  {
   "cell_type": "code",
   "execution_count": null,
   "metadata": {},
   "outputs": [],
   "source": []
  }
 ],
 "metadata": {
  "kernelspec": {
   "display_name": "Python 3",
   "language": "python",
   "name": "python3"
  },
  "language_info": {
   "codemirror_mode": {
    "name": "ipython",
    "version": 3
   },
   "file_extension": ".py",
   "mimetype": "text/x-python",
   "name": "python",
   "nbconvert_exporter": "python",
   "pygments_lexer": "ipython3",
   "version": "3.7.6"
  }
 },
 "nbformat": 4,
 "nbformat_minor": 2
}